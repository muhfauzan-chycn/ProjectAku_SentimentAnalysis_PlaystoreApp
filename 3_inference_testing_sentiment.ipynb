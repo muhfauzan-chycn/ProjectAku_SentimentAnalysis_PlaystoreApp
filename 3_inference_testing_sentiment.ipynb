{
  "nbformat": 4,
  "nbformat_minor": 0,
  "metadata": {
    "colab": {
      "provenance": []
    },
    "kernelspec": {
      "name": "python3",
      "display_name": "Python 3"
    },
    "language_info": {
      "name": "python"
    }
  },
  "cells": [
    {
      "cell_type": "code",
      "source": [
        "# ==========================\n",
        "# 1. Import Library\n",
        "# ==========================\n",
        "import numpy as np\n",
        "import pandas as pd\n",
        "import pickle\n",
        "from tensorflow.keras.models import load_model\n",
        "from tensorflow.keras.preprocessing.sequence import pad_sequences\n",
        "\n",
        "# ==========================\n",
        "# 2. Load Model dan Tools\n",
        "# ==========================\n",
        "model = load_model(\"best_sentiment_model.h5\")\n",
        "\n",
        "with open(\"tokenizer.pickle\", \"rb\") as handle:\n",
        "    tokenizer = pickle.load(handle)\n",
        "\n",
        "with open(\"label_encoder.pickle\", \"rb\") as handle:\n",
        "    label_encoder = pickle.load(handle)\n",
        "\n",
        "with open(\"model_info.pickle\", \"rb\") as handle:\n",
        "    model_info = pickle.load(handle)\n",
        "\n",
        "# Ambil panjang maksimum sequence dari info model\n",
        "maxlen = model_info.get(\"maxlen\", 100)\n",
        "\n",
        "# ==========================\n",
        "# 3. Contoh Kalimat untuk Inference\n",
        "# ==========================\n",
        "contoh_kalimat = [\n",
        "    \"bagus sekali aplikasinya\",\n",
        "    \"Pelayanannya lambat dan sering error\",\n",
        "    \"Biasa\"\n",
        "]\n",
        "\n",
        "# Tokenisasi dan padding\n",
        "sequences = tokenizer.texts_to_sequences(contoh_kalimat)\n",
        "padded = pad_sequences(sequences, maxlen=maxlen, padding='post')\n",
        "\n",
        "# ==========================\n",
        "# 4. Prediksi\n",
        "# ==========================\n",
        "predictions = model.predict(padded)\n",
        "predicted_labels = np.argmax(predictions, axis=1)\n",
        "hasil_kategori = label_encoder.inverse_transform(predicted_labels)\n",
        "\n",
        "# ==========================\n",
        "# 5. Tampilkan Hasil\n",
        "# ==========================\n",
        "for teks, label in zip(contoh_kalimat, hasil_kategori):\n",
        "    print(f\"Teks: {teks}\")\n",
        "    print(f\"→ Sentimen: {label}\")\n",
        "    print(\"-\" * 50)\n"
      ],
      "metadata": {
        "id": "Hq-A1IT2PALv",
        "outputId": "f41785db-4758-4168-b8d3-ab590434b31e",
        "colab": {
          "base_uri": "https://localhost:8080/"
        }
      },
      "execution_count": 25,
      "outputs": [
        {
          "output_type": "stream",
          "name": "stderr",
          "text": [
            "WARNING:absl:Compiled the loaded model, but the compiled metrics have yet to be built. `model.compile_metrics` will be empty until you train or evaluate the model.\n"
          ]
        },
        {
          "output_type": "stream",
          "name": "stdout",
          "text": [
            "\u001b[1m1/1\u001b[0m \u001b[32m━━━━━━━━━━━━━━━━━━━━\u001b[0m\u001b[37m\u001b[0m \u001b[1m0s\u001b[0m 411ms/step\n",
            "Teks: bagus sekali aplikasinya\n",
            "→ Sentimen: positif\n",
            "--------------------------------------------------\n",
            "Teks: Pelayanannya lambat dan sering error\n",
            "→ Sentimen: negatif\n",
            "--------------------------------------------------\n",
            "Teks: Biasa\n",
            "→ Sentimen: netral\n",
            "--------------------------------------------------\n"
          ]
        }
      ]
    }
  ]
}