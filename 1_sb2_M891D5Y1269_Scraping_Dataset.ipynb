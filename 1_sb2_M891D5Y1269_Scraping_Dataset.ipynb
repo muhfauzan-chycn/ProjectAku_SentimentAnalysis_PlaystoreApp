{
  "nbformat": 4,
  "nbformat_minor": 0,
  "metadata": {
    "colab": {
      "provenance": []
    },
    "kernelspec": {
      "name": "python3",
      "display_name": "Python 3"
    },
    "language_info": {
      "name": "python"
    }
  },
  "cells": [
    {
      "cell_type": "code",
      "source": [
        "!pip install sastrawi\n",
        "from Sastrawi.Stemmer.StemmerFactory import StemmerFactory\n",
        "from Sastrawi.StopWordRemover.StopWordRemoverFactory import StopWordRemoverFactory"
      ],
      "metadata": {
        "colab": {
          "base_uri": "https://localhost:8080/"
        },
        "id": "Goa7du1h0mCy",
        "outputId": "e7dd173f-cbec-4bc1-884e-9a8764325960"
      },
      "execution_count": 1,
      "outputs": [
        {
          "output_type": "stream",
          "name": "stdout",
          "text": [
            "Requirement already satisfied: sastrawi in /usr/local/lib/python3.12/dist-packages (1.0.1)\n"
          ]
        }
      ]
    },
    {
      "cell_type": "code",
      "source": [
        "!pip install google-play-scraper"
      ],
      "metadata": {
        "colab": {
          "base_uri": "https://localhost:8080/"
        },
        "id": "7fpiTS860nX9",
        "outputId": "d9d5482b-e2ea-4586-9224-edfed24d72b7"
      },
      "execution_count": 2,
      "outputs": [
        {
          "output_type": "stream",
          "name": "stdout",
          "text": [
            "Requirement already satisfied: google-play-scraper in /usr/local/lib/python3.12/dist-packages (1.2.7)\n"
          ]
        }
      ]
    },
    {
      "cell_type": "code",
      "execution_count": 3,
      "metadata": {
        "id": "6PF9FDGFzJEs"
      },
      "outputs": [],
      "source": [
        "import pandas as pd\n",
        "pd.options.mode.chained_assignment = None\n",
        "import numpy as np\n",
        "seed = 0\n",
        "np.random.seed(seed)\n",
        "import matplotlib.pyplot as plt\n",
        "import seaborn as sns\n",
        "from sklearn.metrics import accuracy_score"
      ]
    },
    {
      "cell_type": "code",
      "source": [
        "import nltk\n",
        "nltk.download('punkt')\n",
        "nltk.download('stopwords')"
      ],
      "metadata": {
        "colab": {
          "base_uri": "https://localhost:8080/"
        },
        "id": "eeeXlIm800B6",
        "outputId": "36d8ee18-a1a1-4a94-ca53-a588d821d430"
      },
      "execution_count": 4,
      "outputs": [
        {
          "output_type": "stream",
          "name": "stderr",
          "text": [
            "[nltk_data] Downloading package punkt to /root/nltk_data...\n",
            "[nltk_data]   Unzipping tokenizers/punkt.zip.\n",
            "[nltk_data] Downloading package stopwords to /root/nltk_data...\n",
            "[nltk_data]   Unzipping corpora/stopwords.zip.\n"
          ]
        },
        {
          "output_type": "execute_result",
          "data": {
            "text/plain": [
              "True"
            ]
          },
          "metadata": {},
          "execution_count": 4
        }
      ]
    },
    {
      "cell_type": "code",
      "source": [
        "import datetime as dt\n",
        "import re\n",
        "import string\n",
        "from nltk.tokenize import word_tokenize\n",
        "from nltk.corpus import stopwords"
      ],
      "metadata": {
        "id": "BLZeOeNm0vO1"
      },
      "execution_count": 5,
      "outputs": []
    },
    {
      "cell_type": "code",
      "source": [
        "from wordcloud import WordCloud"
      ],
      "metadata": {
        "id": "YV3v6QzX0xDf"
      },
      "execution_count": 6,
      "outputs": []
    },
    {
      "cell_type": "code",
      "source": [
        "from google_play_scraper import reviews, Sort\n",
        "import pandas as pd\n",
        "import os\n",
        "\n",
        "# Ganti dengan package name aplikasi target\n",
        "app_id = \"id.dana\"\n",
        "\n",
        "# Ambil 20000 review terbaru\n",
        "result, _ = reviews(\n",
        "    app_id,\n",
        "    lang=\"id\",\n",
        "    country=\"id\",\n",
        "    sort=Sort.NEWEST,\n",
        "    count=20000\n",
        ")\n",
        "\n",
        "# Convert ke DataFrame\n",
        "df = pd.DataFrame(result)\n",
        "\n",
        "# Simpan ke folder /content/data/\n",
        "os.makedirs(\"/content/data\", exist_ok=True)\n",
        "df.to_csv(\"/content/data/ulasan_dana.csv\", index=False)\n",
        "\n",
        "print(\"✅ Scraping selesai, data tersimpan di /content/data/ulasan_dana.csv\")\n",
        "print(\"Kolom tersedia:\", df.columns.tolist())\n",
        "print(df.head())\n",
        "\n",
        "'''\n",
        "# Kalau mau download ke lokal\n",
        "from google.colab import files\n",
        "files.download(\"/content/data/ulasan_dana.csv\")\n",
        "'''\n"
      ],
      "metadata": {
        "colab": {
          "base_uri": "https://localhost:8080/",
          "height": 819
        },
        "id": "hfVeCk5n13LM",
        "outputId": "17028efb-5dde-4696-82db-f94fc6e8bdbc"
      },
      "execution_count": 7,
      "outputs": [
        {
          "output_type": "stream",
          "name": "stdout",
          "text": [
            "✅ Scraping selesai, data tersimpan di /content/data/ulasan_dana.csv\n",
            "Kolom tersedia: ['reviewId', 'userName', 'userImage', 'content', 'score', 'thumbsUpCount', 'reviewCreatedVersion', 'at', 'replyContent', 'repliedAt', 'appVersion']\n",
            "                               reviewId         userName  \\\n",
            "0  fff49d24-40df-4446-99f3-483f2c291035  Pengguna Google   \n",
            "1  7436691b-eebd-4298-8ace-21cbcbe66be2  Pengguna Google   \n",
            "2  35f7bf97-6a7d-4932-af9e-f44f2d56f711  Pengguna Google   \n",
            "3  1643a4ce-6ca3-4421-909c-8b57670d7664  Pengguna Google   \n",
            "4  bf0559f5-4246-46d2-8e8e-28e65dcbc80c  Pengguna Google   \n",
            "\n",
            "                                           userImage  \\\n",
            "0  https://play-lh.googleusercontent.com/EGemoI2N...   \n",
            "1  https://play-lh.googleusercontent.com/EGemoI2N...   \n",
            "2  https://play-lh.googleusercontent.com/EGemoI2N...   \n",
            "3  https://play-lh.googleusercontent.com/EGemoI2N...   \n",
            "4  https://play-lh.googleusercontent.com/EGemoI2N...   \n",
            "\n",
            "                                             content  score  thumbsUpCount  \\\n",
            "0                                              bagus      5              0   \n",
            "1  gak jelas fitur dana cicil g keluar di HP saya...      1              0   \n",
            "2                                    sangat membantu      5              0   \n",
            "3                                susah loading bisku      2              0   \n",
            "4  top up e-money sukses tapi saldonya gak masuk....      1              0   \n",
            "\n",
            "  reviewCreatedVersion                  at  \\\n",
            "0                 None 2025-10-25 14:32:13   \n",
            "1              2.101.1 2025-10-25 14:31:33   \n",
            "2              2.101.1 2025-10-25 14:29:54   \n",
            "3              2.101.1 2025-10-25 14:29:11   \n",
            "4                 None 2025-10-25 14:27:33   \n",
            "\n",
            "                                        replyContent           repliedAt  \\\n",
            "0                                               None                 NaT   \n",
            "1  Hi Kak Ananda, Kami memahami kekecewaan kakak ... 2025-10-25 16:27:56   \n",
            "2                                               None                 NaT   \n",
            "3  Hi Kak Andri, maaf ya kalau sempat bikin kuran... 2025-10-25 16:19:53   \n",
            "4  Hi Kak Mayang, maaf atas kendala saldo e-money... 2025-10-25 16:18:15   \n",
            "\n",
            "  appVersion  \n",
            "0       None  \n",
            "1    2.101.1  \n",
            "2    2.101.1  \n",
            "3    2.101.1  \n",
            "4       None  \n"
          ]
        },
        {
          "output_type": "execute_result",
          "data": {
            "text/plain": [
              "'\\n# Kalau mau download ke lokal\\nfrom google.colab import files\\nfiles.download(\"/content/data/ulasan_dana.csv\")\\n'"
            ],
            "application/vnd.google.colaboratory.intrinsic+json": {
              "type": "string"
            }
          },
          "metadata": {},
          "execution_count": 7
        }
      ]
    },
    {
      "cell_type": "code",
      "source": [
        "print(df.info())\n",
        "print(df.isnull().sum())"
      ],
      "metadata": {
        "colab": {
          "base_uri": "https://localhost:8080/"
        },
        "id": "TwXmlmFn9JbH",
        "outputId": "88d98a4d-cd0f-400d-df93-8cab7da8c03e"
      },
      "execution_count": 8,
      "outputs": [
        {
          "output_type": "stream",
          "name": "stdout",
          "text": [
            "<class 'pandas.core.frame.DataFrame'>\n",
            "RangeIndex: 20000 entries, 0 to 19999\n",
            "Data columns (total 11 columns):\n",
            " #   Column                Non-Null Count  Dtype         \n",
            "---  ------                --------------  -----         \n",
            " 0   reviewId              20000 non-null  object        \n",
            " 1   userName              20000 non-null  object        \n",
            " 2   userImage             20000 non-null  object        \n",
            " 3   content               20000 non-null  object        \n",
            " 4   score                 20000 non-null  int64         \n",
            " 5   thumbsUpCount         20000 non-null  int64         \n",
            " 6   reviewCreatedVersion  16320 non-null  object        \n",
            " 7   at                    20000 non-null  datetime64[ns]\n",
            " 8   replyContent          7844 non-null   object        \n",
            " 9   repliedAt             7844 non-null   datetime64[ns]\n",
            " 10  appVersion            16320 non-null  object        \n",
            "dtypes: datetime64[ns](2), int64(2), object(7)\n",
            "memory usage: 1.7+ MB\n",
            "None\n",
            "reviewId                    0\n",
            "userName                    0\n",
            "userImage                   0\n",
            "content                     0\n",
            "score                       0\n",
            "thumbsUpCount               0\n",
            "reviewCreatedVersion     3680\n",
            "at                          0\n",
            "replyContent            12156\n",
            "repliedAt               12156\n",
            "appVersion               3680\n",
            "dtype: int64\n"
          ]
        }
      ]
    },
    {
      "cell_type": "code",
      "source": [
        "print(df.duplicated(subset=['content']).sum())"
      ],
      "metadata": {
        "colab": {
          "base_uri": "https://localhost:8080/"
        },
        "id": "tng5Jl-H9dVD",
        "outputId": "91813a25-5fcc-4ed4-c89f-bd99bd141651"
      },
      "execution_count": 9,
      "outputs": [
        {
          "output_type": "stream",
          "name": "stdout",
          "text": [
            "6572\n"
          ]
        }
      ]
    },
    {
      "cell_type": "code",
      "source": [
        "# 1. Hapus baris dengan content kosong\n",
        "df = df.dropna(subset=['content'])\n",
        "\n",
        "# 2. Hapus duplikasi berdasarkan isi review\n",
        "df = df.drop_duplicates(subset=['content'])\n",
        "\n",
        "# 3. Isi NaN pada kolom appVersion & reviewCreatedVersion dengan \"unknown\"\n",
        "df['appVersion'] = df['appVersion'].fillna(\"unknown\")\n",
        "df['reviewCreatedVersion'] = df['reviewCreatedVersion'].fillna(\"unknown\")\n",
        "\n",
        "# 4. Kolom replyContent & repliedAt mayoritas kosong → bisa dihapus jika tidak relevan\n",
        "df = df.drop(columns=['replyContent',\n",
        "                      'repliedAt',\n",
        "                      'userImage',\n",
        "                      'reviewCreatedVersion',\n",
        "                      'appVersion',\n",
        "                      'thumbsUpCount'\n",
        "                      ])\n",
        "\n",
        "# 5. Reset index setelah pembersihan\n",
        "df = df.reset_index(drop=True)\n",
        "\n",
        "# 6. Simpan hasil bersih\n",
        "df.to_csv(\"/content/data/ulasan_dana_bersih.csv\", index=False)\n",
        "\n",
        "print(\"✅ Data sudah dibersihkan dan disimpan di /content/data/ulasan_dana_bersih.csv\")\n",
        "print(\"Jumlah baris setelah cleaning:\", len(df))\n",
        "print(\"Kolom tersedia:\", df.columns.tolist())"
      ],
      "metadata": {
        "colab": {
          "base_uri": "https://localhost:8080/"
        },
        "id": "Z-kqB7aM9pNm",
        "outputId": "95f00113-dc11-4605-86df-252cea1dabf6"
      },
      "execution_count": 10,
      "outputs": [
        {
          "output_type": "stream",
          "name": "stdout",
          "text": [
            "✅ Data sudah dibersihkan dan disimpan di /content/data/ulasan_dana_bersih.csv\n",
            "Jumlah baris setelah cleaning: 13428\n",
            "Kolom tersedia: ['reviewId', 'userName', 'content', 'score', 'at']\n"
          ]
        }
      ]
    }
  ]
}